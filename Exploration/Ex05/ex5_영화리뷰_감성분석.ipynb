{
 "cells": [
  {
   "cell_type": "code",
   "execution_count": 29,
   "id": "a1e565ba",
   "metadata": {},
   "outputs": [
    {
     "name": "stdout",
     "output_type": "stream",
     "text": [
      "1.3.3\n",
      "0.5.2\n",
      "4.1.2\n"
     ]
    }
   ],
   "source": [
    "import pandas\n",
    "import konlpy\n",
    "import gensim\n",
    "\n",
    "print(pandas.__version__)\n",
    "print(konlpy.__version__)\n",
    "print(gensim.__version__)"
   ]
  },
  {
   "cell_type": "markdown",
   "id": "fe8d3c5a",
   "metadata": {},
   "source": [
    "# 네이버 영화리뷰 감성분석 도전\n",
    "한국어 텍스트의 감정 분석"
   ]
  },
  {
   "cell_type": "code",
   "execution_count": 30,
   "id": "7aa77f98",
   "metadata": {},
   "outputs": [
    {
     "data": {
      "text/html": [
       "<div>\n",
       "<style scoped>\n",
       "    .dataframe tbody tr th:only-of-type {\n",
       "        vertical-align: middle;\n",
       "    }\n",
       "\n",
       "    .dataframe tbody tr th {\n",
       "        vertical-align: top;\n",
       "    }\n",
       "\n",
       "    .dataframe thead th {\n",
       "        text-align: right;\n",
       "    }\n",
       "</style>\n",
       "<table border=\"1\" class=\"dataframe\">\n",
       "  <thead>\n",
       "    <tr style=\"text-align: right;\">\n",
       "      <th></th>\n",
       "      <th>id</th>\n",
       "      <th>document</th>\n",
       "      <th>label</th>\n",
       "    </tr>\n",
       "  </thead>\n",
       "  <tbody>\n",
       "    <tr>\n",
       "      <th>0</th>\n",
       "      <td>9976970</td>\n",
       "      <td>아 더빙.. 진짜 짜증나네요 목소리</td>\n",
       "      <td>0</td>\n",
       "    </tr>\n",
       "    <tr>\n",
       "      <th>1</th>\n",
       "      <td>3819312</td>\n",
       "      <td>흠...포스터보고 초딩영화줄....오버연기조차 가볍지 않구나</td>\n",
       "      <td>1</td>\n",
       "    </tr>\n",
       "    <tr>\n",
       "      <th>2</th>\n",
       "      <td>10265843</td>\n",
       "      <td>너무재밓었다그래서보는것을추천한다</td>\n",
       "      <td>0</td>\n",
       "    </tr>\n",
       "    <tr>\n",
       "      <th>3</th>\n",
       "      <td>9045019</td>\n",
       "      <td>교도소 이야기구먼 ..솔직히 재미는 없다..평점 조정</td>\n",
       "      <td>0</td>\n",
       "    </tr>\n",
       "    <tr>\n",
       "      <th>4</th>\n",
       "      <td>6483659</td>\n",
       "      <td>사이몬페그의 익살스런 연기가 돋보였던 영화!스파이더맨에서 늙어보이기만 했던 커스틴 ...</td>\n",
       "      <td>1</td>\n",
       "    </tr>\n",
       "  </tbody>\n",
       "</table>\n",
       "</div>"
      ],
      "text/plain": [
       "         id                                           document  label\n",
       "0   9976970                                아 더빙.. 진짜 짜증나네요 목소리      0\n",
       "1   3819312                  흠...포스터보고 초딩영화줄....오버연기조차 가볍지 않구나      1\n",
       "2  10265843                                  너무재밓었다그래서보는것을추천한다      0\n",
       "3   9045019                      교도소 이야기구먼 ..솔직히 재미는 없다..평점 조정      0\n",
       "4   6483659  사이몬페그의 익살스런 연기가 돋보였던 영화!스파이더맨에서 늙어보이기만 했던 커스틴 ...      1"
      ]
     },
     "execution_count": 30,
     "metadata": {},
     "output_type": "execute_result"
    }
   ],
   "source": [
    "import pandas as pd\n",
    "\n",
    "# 데이터를 읽어봅시다. \n",
    "train_data = pd.read_table('~/aiffel/sentiment_classification/data/ratings_train.txt')\n",
    "test_data = pd.read_table('~/aiffel/sentiment_classification/data/ratings_test.txt')\n",
    "\n",
    "train_data.head()"
   ]
  },
  {
   "cell_type": "markdown",
   "id": "db5d7c43",
   "metadata": {},
   "source": [
    "## 데이터로더 구성\n",
    "- 데이터의 중복 제거\n",
    "- NaN 결측치 제거\n",
    "- 한국어 토크나이저로 토큰화\n",
    "- 불용어(Stopwords) 제거\n",
    "- 사전word_to_index 구성\n",
    "- 텍스트 스트링을 사전 인덱스 스트링으로 변환\n",
    "- X_train, y_train, X_test, y_test, word_to_index 리턴"
   ]
  },
  {
   "cell_type": "code",
   "execution_count": 31,
   "id": "e6b9195e",
   "metadata": {},
   "outputs": [],
   "source": [
    "from konlpy.tag import Mecab\n",
    "import numpy as np\n",
    "from collections import Counter\n",
    "from tensorflow.keras.preprocessing.sequence import pad_sequences\n",
    "\n",
    "# 한국어 형태소 분석기 Mecab 사용\n",
    "tokenizer = Mecab()\n",
    "\n",
    "# 불용어 리스트\n",
    "stopwords = ['의', '가', '이', '은', '들', '는', '좀', '잘', '걍', '과', '도', '를', '으로', '자', '에', '와', '한', '하다']\n",
    "\n",
    "def load_data(train_data, test_data, num_words=10000, maxlen=30):\n",
    "    # 1. NaN 결측치 제거\n",
    "    train_data = train_data.dropna(how='any').copy()  # copy()로 복사본 생성\n",
    "    test_data = test_data.dropna(how='any').copy()\n",
    "\n",
    "    # 2. 중복 제거\n",
    "    train_data = train_data.drop_duplicates(subset=['document']).copy()\n",
    "    test_data = test_data.drop_duplicates(subset=['document']).copy()\n",
    "\n",
    "    # 3. 한국어 토크나이저로 토큰화 및 불용어 제거\n",
    "    X_train = []\n",
    "    for sentence in train_data['document']:\n",
    "        tokenized_sentence = tokenizer.morphs(sentence)  # 토큰화\n",
    "        tokenized_sentence = [word for word in tokenized_sentence if word not in stopwords]  # 불용어 제거\n",
    "        X_train.append(tokenized_sentence)\n",
    "    \n",
    "    X_test = []\n",
    "    for sentence in test_data['document']:\n",
    "        tokenized_sentence = tokenizer.morphs(sentence)  # 토큰화\n",
    "        tokenized_sentence = [word for word in tokenized_sentence if word not in stopwords]  # 불용어 제거\n",
    "        X_test.append(tokenized_sentence)\n",
    "\n",
    "    # 4. 사전 word_to_index 구성\n",
    "    all_tokens = [word for sentence in X_train for word in sentence]\n",
    "    vocab = Counter(all_tokens)\n",
    "    vocab = vocab.most_common(num_words - 4)  # 상위 num_words-4개의 단어를 선택\n",
    "\n",
    "    word_to_index = {word: idx + 4 for idx, (word, _) in enumerate(vocab)}\n",
    "    word_to_index[\"<PAD>\"] = 0\n",
    "    word_to_index[\"<BOS>\"] = 1\n",
    "    word_to_index[\"<UNK>\"] = 2\n",
    "    word_to_index[\"<UNUSED>\"] = 3\n",
    "\n",
    "    # 5. 텍스트 데이터를 사전 인덱스로 변환\n",
    "    def text_to_index(sentences, word_to_index):\n",
    "        results = []\n",
    "        for sentence in sentences:\n",
    "            temp_result = []\n",
    "            for word in sentence:\n",
    "                if word in word_to_index:\n",
    "                    temp_result.append(word_to_index[word])\n",
    "                else:\n",
    "                    temp_result.append(word_to_index[\"<UNK>\"])\n",
    "            results.append(temp_result)\n",
    "        return results\n",
    "\n",
    "    X_train = text_to_index(X_train, word_to_index)\n",
    "    X_test = text_to_index(X_test, word_to_index)\n",
    "\n",
    "    # 6. 패딩 추가: 문장의 길이를 고정된 길이로 맞추기\n",
    "    X_train = pad_sequences(X_train, maxlen=maxlen, padding='pre')\n",
    "    X_test = pad_sequences(X_test, maxlen=maxlen, padding='pre')\n",
    "\n",
    "    # 7. 라벨 y_train, y_test 추출 (라벨 데이터)\n",
    "    y_train = np.array(train_data['label'])\n",
    "    y_test = np.array(test_data['label'])\n",
    "\n",
    "    return np.array(X_train), y_train, np.array(X_test), y_test, word_to_index\n",
    "\n",
    "# 데이터 전처리 수행\n",
    "X_train, y_train, X_test, y_test, word_to_index = load_data(train_data, test_data)"
   ]
  },
  {
   "cell_type": "markdown",
   "id": "12e0d812",
   "metadata": {},
   "source": [
    "- RNN은 입력데이터가 순차적으로 처리되어, 가장 마지막 입력이 최종 state 값에 가장 영향을 많이 미치게 됩니다. 그러므로 마지막 입력이 무의미한 padding으로 채워지는 것은 비효율적입니다. 따라서 'pre'가 훨씬 유리하며, 10% 이상의 테스트 성능 차이를 보이게 됩니다."
   ]
  },
  {
   "cell_type": "code",
   "execution_count": 4,
   "id": "3ed32683",
   "metadata": {},
   "outputs": [
    {
     "name": "stdout",
     "output_type": "stream",
     "text": [
      "[  0   0   0   0   0   0   0   0   0   0   0   0   0   0   0   0   0   0\n",
      "   0   0  32  74 919   4   4  39 228  20  33 748]\n",
      "라벨:  0\n",
      "1번째 리뷰 문장 길이:  30\n",
      "2번째 리뷰 문장 길이:  30\n"
     ]
    }
   ],
   "source": [
    "print(X_train[0])  # 1번째 리뷰데이터\n",
    "print('라벨: ', y_train[0])  # 1번째 리뷰데이터의 라벨\n",
    "print('1번째 리뷰 문장 길이: ', len(X_train[0]))\n",
    "print('2번째 리뷰 문장 길이: ', len(X_train[1]))"
   ]
  },
  {
   "cell_type": "code",
   "execution_count": 5,
   "id": "ef7e83ad",
   "metadata": {},
   "outputs": [],
   "source": [
    "index_to_word = {index:word for word, index in word_to_index.items()}"
   ]
  },
  {
   "cell_type": "code",
   "execution_count": 6,
   "id": "a55061d4",
   "metadata": {},
   "outputs": [],
   "source": [
    "# 문장 1개를 활용할 딕셔너리와 함께 주면, 단어 인덱스 리스트 벡터로 변환해 주는 함수입니다. \n",
    "# 단, 모든 문장은 <BOS>로 시작하는 것으로 합니다. \n",
    "def get_encoded_sentence(sentence, word_to_index):\n",
    "    return [word_to_index['<BOS>']]+[word_to_index[word] if word in word_to_index else word_to_index['<UNK>'] for word in sentence.split()]\n",
    "\n",
    "# 여러 개의 문장 리스트를 한꺼번에 단어 인덱스 리스트 벡터로 encode해 주는 함수입니다. \n",
    "def get_encoded_sentences(sentences, word_to_index):\n",
    "    return [get_encoded_sentence(sentence, word_to_index) for sentence in sentences]\n",
    "\n",
    "# 숫자 벡터로 encode된 문장을 원래대로 decode하는 함수입니다. \n",
    "def get_decoded_sentence(encoded_sentence, index_to_word):\n",
    "    return ' '.join(index_to_word[index] if index in index_to_word else '<UNK>' for index in encoded_sentence[1:])  #[1:]를 통해 <BOS>를 제외\n",
    "\n",
    "# 여러 개의 숫자 벡터로 encode된 문장을 한꺼번에 원래대로 decode하는 함수입니다. \n",
    "def get_decoded_sentences(encoded_sentences, index_to_word):\n",
    "    return [get_decoded_sentence(encoded_sentence, index_to_word) for encoded_sentence in encoded_sentences]"
   ]
  },
  {
   "cell_type": "code",
   "execution_count": 7,
   "id": "20f8a426",
   "metadata": {},
   "outputs": [
    {
     "name": "stdout",
     "output_type": "stream",
     "text": [
      "<PAD> <PAD> <PAD> <PAD> <PAD> <PAD> <PAD> <PAD> <PAD> <PAD> <PAD> <PAD> <PAD> <PAD> <PAD> <PAD> <PAD> <PAD> <PAD> 아 더 빙 . . 진짜 짜증 나 네요 목소리\n",
      "라벨:  0\n"
     ]
    }
   ],
   "source": [
    "print(get_decoded_sentence(X_train[0], index_to_word))\n",
    "print('라벨: ', y_train[0])"
   ]
  },
  {
   "cell_type": "markdown",
   "id": "c840c8d2",
   "metadata": {},
   "source": [
    "## 모델 구성을 위한 데이터 분석 가공\n",
    "- 데이터셋 내 문장 길이 분포\n",
    "- 적절한 최대 문장 길이 지정\n",
    "- kreas.preprocessing.sequence.pad_sequences 활용 패딩 추가"
   ]
  },
  {
   "cell_type": "code",
   "execution_count": 11,
   "id": "bfd65887",
   "metadata": {},
   "outputs": [
    {
     "name": "stdout",
     "output_type": "stream",
     "text": [
      "문장길이 평균 :  30.0\n",
      "문장길이 최대 :  30\n",
      "문장길이 표준편차 :  0.0\n",
      "pad_sequences maxlen :  30\n",
      "전체 문장의 0.0%가 maxlen 설정값 이내에 포함됩니다. \n"
     ]
    }
   ],
   "source": [
    "total_data_text = list(X_train) + list(X_test)\n",
    "# 텍스트데이터 문장길이의 리스트를 생성한 후\n",
    "num_tokens = [len(tokens) for tokens in total_data_text]\n",
    "num_tokens = np.array(num_tokens)\n",
    "# 문장길이의 평균값, 최대값, 표준편차를 계산해 본다. \n",
    "print('문장길이 평균 : ', np.mean(num_tokens))\n",
    "print('문장길이 최대 : ', np.max(num_tokens))\n",
    "print('문장길이 표준편차 : ', np.std(num_tokens))\n",
    "\n",
    "# 예를들어, 최대 길이를 (평균 + 2*표준편차)로 한다면,  \n",
    "max_tokens = np.mean(num_tokens) + 2 * np.std(num_tokens)\n",
    "maxlen = int(max_tokens)\n",
    "print('pad_sequences maxlen : ', maxlen)\n",
    "print(f'전체 문장의 {np.sum(num_tokens < max_tokens) / len(num_tokens)}%가 maxlen 설정값 이내에 포함됩니다. ')"
   ]
  },
  {
   "cell_type": "code",
   "execution_count": 8,
   "id": "41c6345a",
   "metadata": {},
   "outputs": [
    {
     "data": {
      "image/png": "[encoded data removed]",
      "text/plain": [
       "<Figure size 432x288 with 1 Axes>"
      ]
     },
     "metadata": {
      "needs_background": "light"
     },
     "output_type": "display_data"
    }
   ],
   "source": [
    "import matplotlib.pyplot as plt\n",
    "from tensorflow.keras.preprocessing.sequence import pad_sequences\n",
    "\n",
    "# 문장 길이 분포 확인\n",
    "def plot_sentence_length_distribution(X_train):\n",
    "    sentence_lengths = [len(sentence) for sentence in X_train]\n",
    "    plt.hist(sentence_lengths, bins=50)\n",
    "    plt.xlabel('Sentence Length')\n",
    "    plt.ylabel('Frequency')\n",
    "    plt.show()\n",
    "\n",
    "# 패딩 추가\n",
    "def pad_sequences_custom(X_train, X_test, maxlen=30):\n",
    "    X_train_padded = pad_sequences(X_train, maxlen=maxlen, padding='post')\n",
    "    X_test_padded = pad_sequences(X_test, maxlen=maxlen, padding='post')\n",
    "    return X_train_padded, X_test_padded\n",
    "\n",
    "# 문장 길이 분포 시각화\n",
    "plot_sentence_length_distribution(X_train)\n",
    "\n",
    "# 적절한 문장 길이로 패딩 추가\n",
    "X_train_padded, X_test_padded = pad_sequences_custom(X_train, X_test, maxlen=30)"
   ]
  },
  {
   "cell_type": "markdown",
   "id": "911ffdc5",
   "metadata": {},
   "source": [
    "## 모델 구성 및 validation set 구성\n",
    "LSTM, CNN, RNN 모델 사용"
   ]
  },
  {
   "cell_type": "markdown",
   "id": "21d3584b",
   "metadata": {},
   "source": [
    "### LSTM 모델"
   ]
  },
  {
   "cell_type": "code",
   "execution_count": 41,
   "id": "ac5d59e1",
   "metadata": {
    "scrolled": true
   },
   "outputs": [
    {
     "name": "stdout",
     "output_type": "stream",
     "text": [
      "Epoch 1/5\n",
      "4569/4569 [==============================] - 24s 5ms/step - loss: 0.3593 - accuracy: 0.8394 - val_loss: 0.3196 - val_accuracy: 0.8605\n",
      "Epoch 2/5\n",
      "4569/4569 [==============================] - 22s 5ms/step - loss: 0.2806 - accuracy: 0.8806 - val_loss: 0.3143 - val_accuracy: 0.8653\n",
      "Epoch 3/5\n",
      "4569/4569 [==============================] - 22s 5ms/step - loss: 0.2395 - accuracy: 0.9006 - val_loss: 0.3276 - val_accuracy: 0.8646\n",
      "Epoch 4/5\n",
      "4569/4569 [==============================] - 22s 5ms/step - loss: 0.2007 - accuracy: 0.9184 - val_loss: 0.3332 - val_accuracy: 0.8612\n",
      "Epoch 5/5\n",
      "4569/4569 [==============================] - 22s 5ms/step - loss: 0.1640 - accuracy: 0.9348 - val_loss: 0.3682 - val_accuracy: 0.8592\n"
     ]
    }
   ],
   "source": [
    "from tensorflow.keras.models import Sequential\n",
    "from tensorflow.keras.layers import Embedding, LSTM, Dense, Conv1D, GlobalMaxPooling1D\n",
    "\n",
    "# 간단한 LSTM 모델 구성\n",
    "def build_lstm_model(vocab_size, embedding_dim=128, input_length=30):\n",
    "    model = Sequential()\n",
    "    model.add(Embedding(vocab_size, embedding_dim, input_length=input_length))\n",
    "    model.add(LSTM(64))\n",
    "    model.add(Dense(1, activation='sigmoid'))\n",
    "    model.compile(optimizer='adam', loss='binary_crossentropy', metrics=['accuracy'])\n",
    "    return model\n",
    "\n",
    "# 단어 사전 크기\n",
    "vocab_size = len(word_to_index)\n",
    "\n",
    "# 모델 생성 및 학습\n",
    "model = build_lstm_model(vocab_size)\n",
    "history = model.fit(X_train_padded, y_train, epochs=5, validation_data=(X_test_padded, y_test))"
   ]
  },
  {
   "cell_type": "markdown",
   "id": "a9275e50",
   "metadata": {},
   "source": [
    "그냥 LSTM 모델을 학습했을 때는, validation 정확도가 86%에 가깝게 올랐다."
   ]
  },
  {
   "cell_type": "markdown",
   "id": "f1229094",
   "metadata": {},
   "source": [
    "### 1-D CNN 모델"
   ]
  },
  {
   "cell_type": "code",
   "execution_count": 10,
   "id": "2b5c1717",
   "metadata": {},
   "outputs": [
    {
     "name": "stdout",
     "output_type": "stream",
     "text": [
      "Epoch 1/10\n",
      "4569/4569 [==============================] - 21s 4ms/step - loss: 0.3569 - accuracy: 0.8420 - val_loss: 0.3290 - val_accuracy: 0.8582\n",
      "Epoch 2/10\n",
      "4569/4569 [==============================] - 18s 4ms/step - loss: 0.2586 - accuracy: 0.8942 - val_loss: 0.3269 - val_accuracy: 0.8622\n",
      "Epoch 3/10\n",
      "4569/4569 [==============================] - 18s 4ms/step - loss: 0.1818 - accuracy: 0.9300 - val_loss: 0.3734 - val_accuracy: 0.8557\n",
      "Epoch 4/10\n",
      "4569/4569 [==============================] - 18s 4ms/step - loss: 0.1145 - accuracy: 0.9589 - val_loss: 0.4511 - val_accuracy: 0.8487\n",
      "Epoch 5/10\n",
      "4569/4569 [==============================] - 18s 4ms/step - loss: 0.0711 - accuracy: 0.9761 - val_loss: 0.5551 - val_accuracy: 0.8451\n",
      "Epoch 6/10\n",
      "4569/4569 [==============================] - 18s 4ms/step - loss: 0.0483 - accuracy: 0.9837 - val_loss: 0.6487 - val_accuracy: 0.8421\n",
      "Epoch 7/10\n",
      "4569/4569 [==============================] - 18s 4ms/step - loss: 0.0360 - accuracy: 0.9878 - val_loss: 0.7038 - val_accuracy: 0.8426\n",
      "Epoch 8/10\n",
      "4569/4569 [==============================] - 18s 4ms/step - loss: 0.0286 - accuracy: 0.9899 - val_loss: 0.7989 - val_accuracy: 0.8351\n",
      "Epoch 9/10\n",
      "4569/4569 [==============================] - 18s 4ms/step - loss: 0.0229 - accuracy: 0.9917 - val_loss: 0.8680 - val_accuracy: 0.8409\n",
      "Epoch 10/10\n",
      "4569/4569 [==============================] - 18s 4ms/step - loss: 0.0201 - accuracy: 0.9927 - val_loss: 0.9414 - val_accuracy: 0.8356\n"
     ]
    }
   ],
   "source": [
    "from tensorflow.keras.models import Sequential\n",
    "from tensorflow.keras.layers import Embedding, Conv1D, GlobalMaxPooling1D, Dense\n",
    "\n",
    "# 간단한 1-D CNN 모델 구성\n",
    "def build_cnn_model(vocab_size, embedding_dim=128, input_length=30):\n",
    "    model = Sequential()\n",
    "    model.add(Embedding(vocab_size, embedding_dim, input_length=input_length))\n",
    "    model.add(Conv1D(128, 5, activation='relu'))  # 1D Conv Layer (필터 크기 5)\n",
    "    model.add(GlobalMaxPooling1D())  # Global Max Pooling Layer\n",
    "    model.add(Dense(1, activation='sigmoid'))  # 이진 분류를 위한 Dense Layer\n",
    "    model.compile(optimizer='adam', loss='binary_crossentropy', metrics=['accuracy'])\n",
    "    return model\n",
    "\n",
    "# 모델 생성 및 학습\n",
    "model = build_cnn_model(vocab_size)\n",
    "history = model.fit(X_train_padded, y_train, epochs=10, validation_data=(X_test_padded, y_test))"
   ]
  },
  {
   "cell_type": "markdown",
   "id": "2ea0cb34",
   "metadata": {},
   "source": [
    "### RNN 모델"
   ]
  },
  {
   "cell_type": "code",
   "execution_count": 12,
   "id": "58ef13d2",
   "metadata": {
    "scrolled": true
   },
   "outputs": [
    {
     "name": "stdout",
     "output_type": "stream",
     "text": [
      "Epoch 1/10\n",
      "4569/4569 [==============================] - 120s 26ms/step - loss: 0.3928 - accuracy: 0.8242 - val_loss: 0.3686 - val_accuracy: 0.8387\n",
      "Epoch 2/10\n",
      "4569/4569 [==============================] - 118s 26ms/step - loss: 0.3202 - accuracy: 0.8644 - val_loss: 0.3593 - val_accuracy: 0.8441\n",
      "Epoch 3/10\n",
      "4569/4569 [==============================] - 118s 26ms/step - loss: 0.2711 - accuracy: 0.8874 - val_loss: 0.3688 - val_accuracy: 0.8362\n",
      "Epoch 4/10\n",
      "4569/4569 [==============================] - 118s 26ms/step - loss: 0.2262 - accuracy: 0.9093 - val_loss: 0.4025 - val_accuracy: 0.8411\n",
      "Epoch 5/10\n",
      "4569/4569 [==============================] - 119s 26ms/step - loss: 0.1884 - accuracy: 0.9270 - val_loss: 0.4374 - val_accuracy: 0.8353\n",
      "Epoch 6/10\n",
      "4569/4569 [==============================] - 118s 26ms/step - loss: 0.1580 - accuracy: 0.9401 - val_loss: 0.4682 - val_accuracy: 0.8275\n",
      "Epoch 7/10\n",
      "4569/4569 [==============================] - 118s 26ms/step - loss: 0.1391 - accuracy: 0.9478 - val_loss: 0.5039 - val_accuracy: 0.8262\n",
      "Epoch 8/10\n",
      "4569/4569 [==============================] - 119s 26ms/step - loss: 0.1190 - accuracy: 0.9553 - val_loss: 0.5278 - val_accuracy: 0.8266\n",
      "Epoch 9/10\n",
      "4569/4569 [==============================] - 118s 26ms/step - loss: 0.1068 - accuracy: 0.9612 - val_loss: 0.5849 - val_accuracy: 0.8287\n",
      "Epoch 10/10\n",
      "4569/4569 [==============================] - 119s 26ms/step - loss: 0.0980 - accuracy: 0.9640 - val_loss: 0.6079 - val_accuracy: 0.8227\n"
     ]
    }
   ],
   "source": [
    "from tensorflow.keras.models import Sequential\n",
    "from tensorflow.keras.layers import Embedding, SimpleRNN, Dense\n",
    "\n",
    "# 간단한 RNN 모델 구성\n",
    "def build_rnn_model(vocab_size, embedding_dim=128, input_length=30):\n",
    "    model = Sequential()\n",
    "    model.add(Embedding(vocab_size, embedding_dim, input_length=input_length))\n",
    "    model.add(SimpleRNN(64))  # Simple RNN Layer\n",
    "    model.add(Dense(1, activation='sigmoid'))  # 이진 분류를 위한 Dense Layer\n",
    "    model.compile(optimizer='adam', loss='binary_crossentropy', metrics=['accuracy'])\n",
    "    return model\n",
    "\n",
    "# 모델 생성 및 학습\n",
    "model = build_rnn_model(vocab_size)\n",
    "history = model.fit(X_train_padded, y_train, epochs=10, validation_data=(X_test_padded, y_test))"
   ]
  },
  {
   "cell_type": "markdown",
   "id": "0c1fd731",
   "metadata": {},
   "source": [
    "## Loss, Accuracy 그래프 시각화"
   ]
  },
  {
   "cell_type": "code",
   "execution_count": 39,
   "id": "5c0dcff4",
   "metadata": {},
   "outputs": [
    {
     "data": {
      "image/png": "[encoded data removed]",
      "text/plain": [
       "<Figure size 432x288 with 1 Axes>"
      ]
     },
     "metadata": {
      "needs_background": "light"
     },
     "output_type": "display_data"
    },
    {
     "data": {
      "image/png": "[encoded data removed]",
      "text/plain": [
       "<Figure size 432x288 with 1 Axes>"
      ]
     },
     "metadata": {
      "needs_background": "light"
     },
     "output_type": "display_data"
    }
   ],
   "source": [
    "# Loss 및 Accuracy 시각화\n",
    "def plot_history(history):\n",
    "    plt.plot(history.history['accuracy'], label='train_accuracy')\n",
    "    plt.plot(history.history['val_accuracy'], label='val_accuracy')\n",
    "    plt.xlabel('Epochs')\n",
    "    plt.ylabel('Accuracy')\n",
    "    plt.legend()\n",
    "    plt.show()\n",
    "\n",
    "    plt.plot(history.history['loss'], label='train_loss')\n",
    "    plt.plot(history.history['val_loss'], label='val_loss')\n",
    "    plt.xlabel('Epochs')\n",
    "    plt.ylabel('Loss')\n",
    "    plt.legend()\n",
    "    plt.show()\n",
    "\n",
    "plot_history(history)"
   ]
  },
  {
   "cell_type": "markdown",
   "id": "8f5cb7ae",
   "metadata": {},
   "source": [
    "## 학습된 Embedding 레이어 분석"
   ]
  },
  {
   "cell_type": "markdown",
   "id": "2dfe3ee9",
   "metadata": {},
   "source": [
    "#### 1. 임베딩 가중치 추출"
   ]
  },
  {
   "cell_type": "code",
   "execution_count": 14,
   "id": "8f02ab19",
   "metadata": {},
   "outputs": [
    {
     "name": "stdout",
     "output_type": "stream",
     "text": [
      "(10000, 128)\n"
     ]
    }
   ],
   "source": [
    "# 임베딩 가중치 추출\n",
    "# 학습된 Embedding 레이어 가중치 추출\n",
    "embedding_layer = model.layers[0]\n",
    "embedding_weights = embedding_layer.get_weights()[0]\n",
    "print(embedding_weights.shape)  # (vocab_size, embedding_dim)"
   ]
  },
  {
   "cell_type": "markdown",
   "id": "8b3e06ac",
   "metadata": {},
   "source": [
    "#### 2. 단어 벡터 유사도 측정"
   ]
  },
  {
   "cell_type": "code",
   "execution_count": 19,
   "id": "8e285e76",
   "metadata": {},
   "outputs": [
    {
     "name": "stdout",
     "output_type": "stream",
     "text": [
      "영화와 스파이더맨: 0.030043963342905045\n"
     ]
    }
   ],
   "source": [
    "# 단어 벡터 유사도 측정\n",
    "from sklearn.metrics.pairwise import cosine_similarity\n",
    "\n",
    "def find_similarity(word1, word2, word_to_index, embedding_weights):\n",
    "    idx1 = word_to_index[word1]\n",
    "    idx2 = word_to_index[word2]\n",
    "    vec1 = embedding_weights[idx1].reshape(1, -1)\n",
    "    vec2 = embedding_weights[idx2].reshape(1, -1)\n",
    "    return cosine_similarity(vec1, vec2)\n",
    "\n",
    "# 예시: 두 단어 간의 유사도 계산\n",
    "similarity = find_similarity('영화', '스파이더맨', word_to_index, embedding_weights)\n",
    "print(f\"영화와 스파이더맨: {similarity[0][0]}\")"
   ]
  },
  {
   "cell_type": "markdown",
   "id": "e2642a75",
   "metadata": {},
   "source": [
    "#### 3. 임베딩 시각화"
   ]
  },
  {
   "cell_type": "code",
   "execution_count": 56,
   "id": "135b7472",
   "metadata": {
    "scrolled": true
   },
   "outputs": [
    {
     "name": "stderr",
     "output_type": "stream",
     "text": [
      "/opt/conda/lib/python3.9/site-packages/sklearn/manifold/_t_sne.py:780: FutureWarning: The default initialization in TSNE will change from 'random' to 'pca' in 1.2.\n",
      "  warnings.warn(\n",
      "/opt/conda/lib/python3.9/site-packages/sklearn/manifold/_t_sne.py:790: FutureWarning: The default learning rate in TSNE will change from 200.0 to 'auto' in 1.2.\n",
      "  warnings.warn(\n"
     ]
    },
    {
     "data": {
      "image/png": "[encoded data removed]",
      "text/plain": [
       "<Figure size 864x576 with 1 Axes>"
      ]
     },
     "metadata": {
      "needs_background": "light"
     },
     "output_type": "display_data"
    }
   ],
   "source": [
    "from sklearn.manifold import TSNE\n",
    "import matplotlib.pyplot as plt\n",
    "import koreanize_matplotlib\n",
    "\n",
    "def plot_embedding(vocab_size, embedding_weights, word_to_index, num_words=100):\n",
    "    words = list(word_to_index.keys())[:num_words]\n",
    "    vectors = embedding_weights[:num_words]\n",
    "\n",
    "    tsne = TSNE(n_components=2)\n",
    "    reduced_vecs = tsne.fit_transform(vectors)\n",
    "\n",
    "    plt.figure(figsize=(12, 8))\n",
    "    for i, word in enumerate(words):\n",
    "        plt.scatter(reduced_vecs[i, 0], reduced_vecs[i, 1])\n",
    "        plt.annotate(word, (reduced_vecs[i, 0], reduced_vecs[i, 1]))\n",
    "    plt.show()\n",
    "\n",
    "# 임베딩 벡터 시각화 (상위 100개 단어)\n",
    "plot_embedding(vocab_size, embedding_weights, word_to_index)"
   ]
  },
  {
   "cell_type": "markdown",
   "id": "60f217e0",
   "metadata": {},
   "source": [
    "- 단어 임베딩된 벡터를 시각화 한 것이다."
   ]
  },
  {
   "cell_type": "markdown",
   "id": "46afac36",
   "metadata": {},
   "source": [
    "#### 4. 단어의 가장 유사한 단어 찾기"
   ]
  },
  {
   "cell_type": "code",
   "execution_count": 32,
   "id": "296a85a7",
   "metadata": {},
   "outputs": [
    {
     "name": "stdout",
     "output_type": "stream",
     "text": [
      "[('김지영', 0.5175657), ('민폐', 0.5136513), ('빈', 0.50500745), ('댓글', 0.5032414), ('은정', 0.49613184)]\n"
     ]
    }
   ],
   "source": [
    "from sklearn.metrics.pairwise import cosine_similarity\n",
    "import numpy as np\n",
    "\n",
    "def most_similar(word, word_to_index, embedding_weights, top_n=5):\n",
    "    idx = word_to_index[word]\n",
    "    target_vector = embedding_weights[idx].reshape(1, -1)\n",
    "    similarities = cosine_similarity(embedding_weights, target_vector).reshape(-1)\n",
    "    most_similar_idx = np.argsort(-similarities)[:top_n+1]\n",
    "    most_similar_words = [(list(word_to_index.keys())[i], similarities[i]) for i in most_similar_idx if i != idx]\n",
    "    return most_similar_words\n",
    "\n",
    "# 예시: '스파이더맨'와 가장 유사한 단어 5개 찾기\n",
    "similar_words = most_similar('스파이더맨', word_to_index, embedding_weights)\n",
    "print(similar_words)"
   ]
  },
  {
   "cell_type": "markdown",
   "id": "15c08b55",
   "metadata": {},
   "source": [
    "## 한국어 Word2Vec 임베딩 활용하여 성능 개선"
   ]
  },
  {
   "cell_type": "code",
   "execution_count": 37,
   "id": "67ff93b5",
   "metadata": {},
   "outputs": [
    {
     "name": "stdout",
     "output_type": "stream",
     "text": [
      "Word2Vec embedding dimension: 100\n"
     ]
    }
   ],
   "source": [
    "# Word2Vec 모델 실제 임베딩 차원 확인\n",
    "embedding_dim = word2vec.vector_size\n",
    "print(\"Word2Vec embedding dimension:\", embedding_dim)"
   ]
  },
  {
   "cell_type": "markdown",
   "id": "e83a556a",
   "metadata": {},
   "source": [
    "### Word2Vec_LSTM "
   ]
  },
  {
   "cell_type": "code",
   "execution_count": 47,
   "id": "cae6b634",
   "metadata": {
    "scrolled": false
   },
   "outputs": [
    {
     "name": "stdout",
     "output_type": "stream",
     "text": [
      "Word2Vec embedding dimension: 100\n",
      "Epoch 1/5\n",
      "4569/4569 [==============================] - 34s 7ms/step - loss: 0.4415 - accuracy: 0.7923 - val_loss: 0.3878 - val_accuracy: 0.8218\n",
      "Epoch 2/5\n",
      "4569/4569 [==============================] - 31s 7ms/step - loss: 0.3690 - accuracy: 0.8346 - val_loss: 0.3662 - val_accuracy: 0.8350\n",
      "Epoch 3/5\n",
      "4569/4569 [==============================] - 31s 7ms/step - loss: 0.3426 - accuracy: 0.8501 - val_loss: 0.3593 - val_accuracy: 0.8445\n",
      "Epoch 4/5\n",
      "4569/4569 [==============================] - 31s 7ms/step - loss: 0.3222 - accuracy: 0.8605 - val_loss: 0.3437 - val_accuracy: 0.8482\n",
      "Epoch 5/5\n",
      "4569/4569 [==============================] - 31s 7ms/step - loss: 0.3068 - accuracy: 0.8682 - val_loss: 0.3465 - val_accuracy: 0.8504\n"
     ]
    },
    {
     "data": {
      "image/png": "[encoded data removed]",
      "text/plain": [
       "<Figure size 432x288 with 1 Axes>"
      ]
     },
     "metadata": {
      "needs_background": "light"
     },
     "output_type": "display_data"
    },
    {
     "data": {
      "image/png": "[encoded data removed]",
      "text/plain": [
       "<Figure size 432x288 with 1 Axes>"
      ]
     },
     "metadata": {
      "needs_background": "light"
     },
     "output_type": "display_data"
    }
   ],
   "source": [
    "from gensim.models import Word2Vec\n",
    "import numpy as np\n",
    "from tensorflow.keras.models import Sequential\n",
    "from tensorflow.keras.layers import Embedding, LSTM, Dense\n",
    "from tensorflow.keras.layers import Dropout\n",
    "import matplotlib.pyplot as plt\n",
    "\n",
    "# 한국어 Word2Vec 모델 로드\n",
    "word2vec = Word2Vec.load('/aiffel/data/word2vec_ko.model').wv\n",
    "\n",
    "# Word2Vec 벡터 차원 확인\n",
    "embedding_dim = word2vec.vector_size\n",
    "print(\"Word2Vec embedding dimension:\", embedding_dim)\n",
    "\n",
    "# Word2Vec 임베딩을 활용한 모델 구성\n",
    "def build_word2vec_model(vocab_size, embedding_dim, input_length=30, word2vec=None):\n",
    "    model = Sequential()\n",
    "    \n",
    "    # 임베딩 매트릭스 생성\n",
    "    embedding_matrix = np.zeros((vocab_size, embedding_dim))\n",
    "    \n",
    "    for word, i in word_to_index.items():\n",
    "        if word in word2vec:\n",
    "            embedding_matrix[i] = word2vec[word]\n",
    "    \n",
    "    # Embedding Layer 추가\n",
    "    model.add(Embedding(vocab_size, embedding_dim, input_length=input_length, weights=[embedding_matrix], trainable=False))\n",
    "    \n",
    "    # LSTM 레이어 추가\n",
    "    model.add(LSTM(128, return_sequences=True))\n",
    "    model.add(Dropout(0.5))  # Dropout 추가\n",
    "    \n",
    "    # LSTM 추가 가능\n",
    "    model.add(LSTM(64))\n",
    "    model.add(Dropout(0.5))\n",
    "    \n",
    "    # Dense 레이어 추가\n",
    "    model.add(Dense(1, activation='sigmoid'))\n",
    "    \n",
    "    # 모델 컴파일\n",
    "    model.compile(optimizer='adam', loss='binary_crossentropy', metrics=['accuracy'])\n",
    "    \n",
    "    return model\n",
    "\n",
    "# Word2Vec을 적용한 모델 생성 및 학습\n",
    "vocab_size = len(word_to_index)  # 단어 사전 크기\n",
    "model = build_word2vec_model(vocab_size, embedding_dim, word2vec=word2vec)\n",
    "history = model.fit(X_train_padded, y_train, epochs=5, validation_data=(X_test_padded, y_test))\n",
    "\n",
    "# 학습 성능 시각화\n",
    "plot_history(history)"
   ]
  },
  {
   "cell_type": "markdown",
   "id": "214cf5fc",
   "metadata": {},
   "source": [
    "### 에포크를 5번만 시도해도 정확도(accuracy)가 `85%` 를 넘겼다!"
   ]
  },
  {
   "cell_type": "markdown",
   "id": "fc7be654",
   "metadata": {},
   "source": [
    "## Word2Vec_1-D CNN"
   ]
  },
  {
   "cell_type": "code",
   "execution_count": 48,
   "id": "b335427d",
   "metadata": {},
   "outputs": [
    {
     "name": "stdout",
     "output_type": "stream",
     "text": [
      "Word2Vec embedding dimension: 100\n",
      "Epoch 1/5\n",
      "4569/4569 [==============================] - 15s 3ms/step - loss: 0.5253 - accuracy: 0.7488 - val_loss: 0.4572 - val_accuracy: 0.7845\n",
      "Epoch 2/5\n",
      "4569/4569 [==============================] - 15s 3ms/step - loss: 0.4353 - accuracy: 0.7968 - val_loss: 0.4509 - val_accuracy: 0.7916\n",
      "Epoch 3/5\n",
      "4569/4569 [==============================] - 15s 3ms/step - loss: 0.4020 - accuracy: 0.8166 - val_loss: 0.4322 - val_accuracy: 0.8007\n",
      "Epoch 4/5\n",
      "4569/4569 [==============================] - 15s 3ms/step - loss: 0.3758 - accuracy: 0.8308 - val_loss: 0.4393 - val_accuracy: 0.8003\n",
      "Epoch 5/5\n",
      "4569/4569 [==============================] - 15s 3ms/step - loss: 0.3534 - accuracy: 0.8421 - val_loss: 0.4409 - val_accuracy: 0.8039\n"
     ]
    },
    {
     "data": {
      "image/png": "[encoded data removed]",
      "text/plain": [
       "<Figure size 432x288 with 1 Axes>"
      ]
     },
     "metadata": {
      "needs_background": "light"
     },
     "output_type": "display_data"
    },
    {
     "data": {
      "image/png": "[encoded data removed]",
      "text/plain": [
       "<Figure size 432x288 with 1 Axes>"
      ]
     },
     "metadata": {
      "needs_background": "light"
     },
     "output_type": "display_data"
    }
   ],
   "source": [
    "from gensim.models import Word2Vec\n",
    "import numpy as np\n",
    "from tensorflow.keras.models import Sequential\n",
    "from tensorflow.keras.layers import Embedding, Conv1D, GlobalMaxPooling1D, Dense\n",
    "\n",
    "# 한국어 Word2Vec 모델 로드\n",
    "word2vec = Word2Vec.load('/aiffel/data/word2vec_ko.model').wv\n",
    "\n",
    "# Word2Vec 벡터 차원 확인\n",
    "embedding_dim = word2vec.vector_size\n",
    "print(\"Word2Vec embedding dimension:\", embedding_dim)\n",
    "\n",
    "# Word2Vec 임베딩을 활용한 1-D CNN 모델 구성\n",
    "def build_word2vec_cnn_model(vocab_size, embedding_dim, input_length=30, word2vec=None):\n",
    "    model = Sequential()\n",
    "    \n",
    "    # 임베딩 매트릭스 생성\n",
    "    embedding_matrix = np.zeros((vocab_size, embedding_dim))\n",
    "    \n",
    "    for word, i in word_to_index.items():\n",
    "        if word in word2vec:\n",
    "            embedding_matrix[i] = word2vec[word]\n",
    "    \n",
    "    # Embedding Layer 추가\n",
    "    model.add(Embedding(vocab_size, embedding_dim, input_length=input_length, weights=[embedding_matrix], trainable=False))\n",
    "    \n",
    "    # Conv1D 레이어 추가 (1D CNN)\n",
    "    model.add(Conv1D(128, kernel_size=5, activation='relu'))  # 필터 크기 5, 필터 수 128\n",
    "    model.add(GlobalMaxPooling1D())  # Global Max Pooling 레이어로 중요한 특징 추출\n",
    "    \n",
    "    # Dense 레이어 추가 (이진 분류)\n",
    "    model.add(Dense(1, activation='sigmoid'))\n",
    "    \n",
    "    # 모델 컴파일\n",
    "    model.compile(optimizer='adam', loss='binary_crossentropy', metrics=['accuracy'])\n",
    "    \n",
    "    return model\n",
    "\n",
    "# Word2Vec을 적용한 1-D CNN 모델 생성 및 학습\n",
    "vocab_size = len(word_to_index)  # 단어 사전 크기\n",
    "model = build_word2vec_cnn_model(vocab_size, embedding_dim, word2vec=word2vec)\n",
    "history = model.fit(X_train_padded, y_train, epochs=5, validation_data=(X_test_padded, y_test))\n",
    "\n",
    "# 학습 성능 시각화\n",
    "plot_history(history)"
   ]
  },
  {
   "cell_type": "markdown",
   "id": "2bae3b9d",
   "metadata": {},
   "source": [
    "### Word2Vec_RNN"
   ]
  },
  {
   "cell_type": "code",
   "execution_count": 49,
   "id": "3057046c",
   "metadata": {},
   "outputs": [
    {
     "name": "stdout",
     "output_type": "stream",
     "text": [
      "Epoch 1/5\n",
      "2285/2285 [==============================] - 112s 49ms/step - loss: 0.5813 - accuracy: 0.7037 - val_loss: 0.5462 - val_accuracy: 0.7399\n",
      "Epoch 2/5\n",
      "2285/2285 [==============================] - 111s 48ms/step - loss: 0.4983 - accuracy: 0.7675 - val_loss: 0.4886 - val_accuracy: 0.7769\n",
      "Epoch 3/5\n",
      "2285/2285 [==============================] - 112s 49ms/step - loss: 0.4721 - accuracy: 0.7826 - val_loss: 0.4681 - val_accuracy: 0.7886\n",
      "Epoch 4/5\n",
      "2285/2285 [==============================] - 110s 48ms/step - loss: 0.4545 - accuracy: 0.7934 - val_loss: 0.4498 - val_accuracy: 0.7995\n",
      "Epoch 5/5\n",
      "2285/2285 [==============================] - 111s 49ms/step - loss: 0.4464 - accuracy: 0.7971 - val_loss: 0.4408 - val_accuracy: 0.7983\n"
     ]
    }
   ],
   "source": [
    "from tensorflow.keras.layers import SimpleRNN, Dropout\n",
    "\n",
    "# Word2Vec 임베딩을 활용한 RNN 모델 구성\n",
    "def build_word2vec_rnn_model(vocab_size, embedding_dim, input_length=30, word2vec=None):\n",
    "    model = Sequential()\n",
    "    \n",
    "    # 임베딩 매트릭스 생성\n",
    "    embedding_matrix = np.zeros((vocab_size, embedding_dim))\n",
    "    \n",
    "    for word, i in word_to_index.items():\n",
    "        if word in word2vec:\n",
    "            embedding_matrix[i] = word2vec[word]\n",
    "    \n",
    "    # Embedding Layer 추가\n",
    "    model.add(Embedding(vocab_size, embedding_dim, input_length=input_length, weights=[embedding_matrix], trainable=False))\n",
    "    \n",
    "    # Simple RNN 레이어 추가\n",
    "    model.add(SimpleRNN(128, return_sequences=True))\n",
    "    model.add(Dropout(0.5))  # Dropout 추가\n",
    "    \n",
    "    model.add(SimpleRNN(64))\n",
    "    model.add(Dropout(0.5))\n",
    "    \n",
    "    # Dense 레이어 추가 (이진 분류)\n",
    "    model.add(Dense(1, activation='sigmoid'))\n",
    "    \n",
    "    # 모델 컴파일\n",
    "    model.compile(optimizer='adam', loss='binary_crossentropy', metrics=['accuracy'])\n",
    "    \n",
    "    return model\n",
    "\n",
    "# RNN 모델 생성 및 학습\n",
    "vocab_size = len(word_to_index)  # 단어 사전 크기\n",
    "model = build_word2vec_rnn_model(vocab_size, embedding_dim, word2vec=word2vec)\n",
    "history = model.fit(X_train_padded, y_train, batch_size=64, epochs=5, validation_data=(X_test_padded, y_test))"
   ]
  },
  {
   "cell_type": "markdown",
   "id": "8d6f916f",
   "metadata": {},
   "source": [
    "### ROC 커브 계산하여 성능변화 시각화하기"
   ]
  },
  {
   "cell_type": "code",
   "execution_count": 50,
   "id": "acf8198c",
   "metadata": {},
   "outputs": [
    {
     "data": {
      "image/png": "[encoded data removed]",
      "text/plain": [
       "<Figure size 576x432 with 1 Axes>"
      ]
     },
     "metadata": {
      "needs_background": "light"
     },
     "output_type": "display_data"
    }
   ],
   "source": [
    "from sklearn.metrics import precision_recall_curve\n",
    "\n",
    "# 예측 확률값 얻기\n",
    "y_pred_prob = model.predict(X_test_padded).ravel()\n",
    "\n",
    "# Precision-Recall Curve 계산\n",
    "precision, recall, thresholds = precision_recall_curve(y_test, y_pred_prob)\n",
    "\n",
    "# Precision-Recall Curve 시각화\n",
    "plt.figure(figsize=(8, 6))\n",
    "plt.plot(recall, precision, color='b', lw=2)\n",
    "plt.xlabel('Recall')\n",
    "plt.ylabel('Precision')\n",
    "plt.title('Precision-Recall Curve')\n",
    "plt.show()"
   ]
  },
  {
   "cell_type": "markdown",
   "id": "8444bc4d",
   "metadata": {},
   "source": [
    "### 워드클라우드로 부정, 긍정 리뷰 시각화하기\n",
    "- 한국어로 시각화하기 위한 koreanize-matplotlib 한국어 패키지 설치"
   ]
  },
  {
   "cell_type": "code",
   "execution_count": 54,
   "id": "5d0e435a",
   "metadata": {},
   "outputs": [
    {
     "name": "stdout",
     "output_type": "stream",
     "text": [
      "Collecting koreanize-matplotlib\n",
      "  Downloading koreanize_matplotlib-0.1.1-py3-none-any.whl (7.9 MB)\n",
      "     |████████████████████████████████| 7.9 MB 4.2 MB/s            \n",
      "\u001b[?25hRequirement already satisfied: matplotlib in /opt/conda/lib/python3.9/site-packages (from koreanize-matplotlib) (3.4.3)\n",
      "Requirement already satisfied: numpy>=1.16 in /opt/conda/lib/python3.9/site-packages (from matplotlib->koreanize-matplotlib) (1.21.4)\n",
      "Requirement already satisfied: kiwisolver>=1.0.1 in /opt/conda/lib/python3.9/site-packages (from matplotlib->koreanize-matplotlib) (1.3.2)\n",
      "Requirement already satisfied: cycler>=0.10 in /opt/conda/lib/python3.9/site-packages (from matplotlib->koreanize-matplotlib) (0.11.0)\n",
      "Requirement already satisfied: python-dateutil>=2.7 in /opt/conda/lib/python3.9/site-packages (from matplotlib->koreanize-matplotlib) (2.8.2)\n",
      "Requirement already satisfied: pyparsing>=2.2.1 in /opt/conda/lib/python3.9/site-packages (from matplotlib->koreanize-matplotlib) (3.0.6)\n",
      "Requirement already satisfied: pillow>=6.2.0 in /opt/conda/lib/python3.9/site-packages (from matplotlib->koreanize-matplotlib) (8.3.2)\n",
      "Requirement already satisfied: six>=1.5 in /opt/conda/lib/python3.9/site-packages (from python-dateutil>=2.7->matplotlib->koreanize-matplotlib) (1.16.0)\n",
      "Installing collected packages: koreanize-matplotlib\n",
      "Successfully installed koreanize-matplotlib-0.1.1\n",
      "\u001b[33mWARNING: Running pip as the 'root' user can result in broken permissions and conflicting behaviour with the system package manager. It is recommended to use a virtual environment instead: https://pip.pypa.io/warnings/venv\u001b[0m\n"
     ]
    }
   ],
   "source": [
    "!pip install koreanize-matplotlib   # 한국어 패키지"
   ]
  },
  {
   "cell_type": "code",
   "execution_count": 55,
   "id": "11106532",
   "metadata": {
    "scrolled": true
   },
   "outputs": [
    {
     "data": {
      "image/png": "[encoded data removed]",
      "text/plain": [
       "<Figure size 720x432 with 1 Axes>"
      ]
     },
     "metadata": {
      "needs_background": "light"
     },
     "output_type": "display_data"
    },
    {
     "ename": "KeyboardInterrupt",
     "evalue": "",
     "output_type": "error",
     "traceback": [
      "\u001b[0;31m---------------------------------------------------------------------------\u001b[0m",
      "\u001b[0;31mKeyboardInterrupt\u001b[0m                         Traceback (most recent call last)",
      "\u001b[0;32m/tmp/ipykernel_346/2393736610.py\u001b[0m in \u001b[0;36m<module>\u001b[0;34m\u001b[0m\n\u001b[1;32m     23\u001b[0m \u001b[0;34m\u001b[0m\u001b[0m\n\u001b[1;32m     24\u001b[0m \u001b[0;31m# 상위 100개 단어로 Positive Word Cloud 생성\u001b[0m\u001b[0;34m\u001b[0m\u001b[0;34m\u001b[0m\u001b[0m\n\u001b[0;32m---> 25\u001b[0;31m \u001b[0mplot_wordcloud_top_n\u001b[0m\u001b[0;34m(\u001b[0m\u001b[0mX_train_padded\u001b[0m\u001b[0;34m[\u001b[0m\u001b[0my_train\u001b[0m \u001b[0;34m==\u001b[0m \u001b[0;36m1\u001b[0m\u001b[0;34m]\u001b[0m\u001b[0;34m,\u001b[0m \u001b[0;34m'Positive'\u001b[0m\u001b[0;34m,\u001b[0m \u001b[0mword_to_index\u001b[0m\u001b[0;34m,\u001b[0m \u001b[0mtop_n\u001b[0m\u001b[0;34m=\u001b[0m\u001b[0;36m100\u001b[0m\u001b[0;34m)\u001b[0m\u001b[0;34m\u001b[0m\u001b[0;34m\u001b[0m\u001b[0m\n\u001b[0m",
      "\u001b[0;32m/tmp/ipykernel_346/2393736610.py\u001b[0m in \u001b[0;36mplot_wordcloud_top_n\u001b[0;34m(data, label, word_to_index, top_n)\u001b[0m\n\u001b[1;32m      4\u001b[0m \u001b[0;31m# 상위 빈도 단어만 사용한 Word Cloud 생성 함수\u001b[0m\u001b[0;34m\u001b[0m\u001b[0;34m\u001b[0m\u001b[0m\n\u001b[1;32m      5\u001b[0m \u001b[0;32mdef\u001b[0m \u001b[0mplot_wordcloud_top_n\u001b[0m\u001b[0;34m(\u001b[0m\u001b[0mdata\u001b[0m\u001b[0;34m,\u001b[0m \u001b[0mlabel\u001b[0m\u001b[0;34m,\u001b[0m \u001b[0mword_to_index\u001b[0m\u001b[0;34m,\u001b[0m \u001b[0mtop_n\u001b[0m\u001b[0;34m=\u001b[0m\u001b[0;36m100\u001b[0m\u001b[0;34m)\u001b[0m\u001b[0;34m:\u001b[0m\u001b[0;34m\u001b[0m\u001b[0;34m\u001b[0m\u001b[0m\n\u001b[0;32m----> 6\u001b[0;31m     \u001b[0mtext_data\u001b[0m \u001b[0;34m=\u001b[0m \u001b[0;34m[\u001b[0m\u001b[0;34m\" \"\u001b[0m\u001b[0;34m.\u001b[0m\u001b[0mjoin\u001b[0m\u001b[0;34m(\u001b[0m\u001b[0;34m[\u001b[0m\u001b[0mlist\u001b[0m\u001b[0;34m(\u001b[0m\u001b[0mword_to_index\u001b[0m\u001b[0;34m.\u001b[0m\u001b[0mkeys\u001b[0m\u001b[0;34m(\u001b[0m\u001b[0;34m)\u001b[0m\u001b[0;34m)\u001b[0m\u001b[0;34m[\u001b[0m\u001b[0midx\u001b[0m\u001b[0;34m]\u001b[0m \u001b[0;32mfor\u001b[0m \u001b[0midx\u001b[0m \u001b[0;32min\u001b[0m \u001b[0msentence\u001b[0m\u001b[0;34m]\u001b[0m\u001b[0;34m)\u001b[0m \u001b[0;32mfor\u001b[0m \u001b[0msentence\u001b[0m \u001b[0;32min\u001b[0m \u001b[0mdata\u001b[0m\u001b[0;34m]\u001b[0m\u001b[0;34m\u001b[0m\u001b[0;34m\u001b[0m\u001b[0m\n\u001b[0m\u001b[1;32m      7\u001b[0m     \u001b[0mtext\u001b[0m \u001b[0;34m=\u001b[0m \u001b[0;34m\" \"\u001b[0m\u001b[0;34m.\u001b[0m\u001b[0mjoin\u001b[0m\u001b[0;34m(\u001b[0m\u001b[0mtext_data\u001b[0m\u001b[0;34m)\u001b[0m\u001b[0;34m\u001b[0m\u001b[0;34m\u001b[0m\u001b[0m\n\u001b[1;32m      8\u001b[0m \u001b[0;34m\u001b[0m\u001b[0m\n",
      "\u001b[0;32m/tmp/ipykernel_346/2393736610.py\u001b[0m in \u001b[0;36m<listcomp>\u001b[0;34m(.0)\u001b[0m\n\u001b[1;32m      4\u001b[0m \u001b[0;31m# 상위 빈도 단어만 사용한 Word Cloud 생성 함수\u001b[0m\u001b[0;34m\u001b[0m\u001b[0;34m\u001b[0m\u001b[0m\n\u001b[1;32m      5\u001b[0m \u001b[0;32mdef\u001b[0m \u001b[0mplot_wordcloud_top_n\u001b[0m\u001b[0;34m(\u001b[0m\u001b[0mdata\u001b[0m\u001b[0;34m,\u001b[0m \u001b[0mlabel\u001b[0m\u001b[0;34m,\u001b[0m \u001b[0mword_to_index\u001b[0m\u001b[0;34m,\u001b[0m \u001b[0mtop_n\u001b[0m\u001b[0;34m=\u001b[0m\u001b[0;36m100\u001b[0m\u001b[0;34m)\u001b[0m\u001b[0;34m:\u001b[0m\u001b[0;34m\u001b[0m\u001b[0;34m\u001b[0m\u001b[0m\n\u001b[0;32m----> 6\u001b[0;31m     \u001b[0mtext_data\u001b[0m \u001b[0;34m=\u001b[0m \u001b[0;34m[\u001b[0m\u001b[0;34m\" \"\u001b[0m\u001b[0;34m.\u001b[0m\u001b[0mjoin\u001b[0m\u001b[0;34m(\u001b[0m\u001b[0;34m[\u001b[0m\u001b[0mlist\u001b[0m\u001b[0;34m(\u001b[0m\u001b[0mword_to_index\u001b[0m\u001b[0;34m.\u001b[0m\u001b[0mkeys\u001b[0m\u001b[0;34m(\u001b[0m\u001b[0;34m)\u001b[0m\u001b[0;34m)\u001b[0m\u001b[0;34m[\u001b[0m\u001b[0midx\u001b[0m\u001b[0;34m]\u001b[0m \u001b[0;32mfor\u001b[0m \u001b[0midx\u001b[0m \u001b[0;32min\u001b[0m \u001b[0msentence\u001b[0m\u001b[0;34m]\u001b[0m\u001b[0;34m)\u001b[0m \u001b[0;32mfor\u001b[0m \u001b[0msentence\u001b[0m \u001b[0;32min\u001b[0m \u001b[0mdata\u001b[0m\u001b[0;34m]\u001b[0m\u001b[0;34m\u001b[0m\u001b[0;34m\u001b[0m\u001b[0m\n\u001b[0m\u001b[1;32m      7\u001b[0m     \u001b[0mtext\u001b[0m \u001b[0;34m=\u001b[0m \u001b[0;34m\" \"\u001b[0m\u001b[0;34m.\u001b[0m\u001b[0mjoin\u001b[0m\u001b[0;34m(\u001b[0m\u001b[0mtext_data\u001b[0m\u001b[0;34m)\u001b[0m\u001b[0;34m\u001b[0m\u001b[0;34m\u001b[0m\u001b[0m\n\u001b[1;32m      8\u001b[0m \u001b[0;34m\u001b[0m\u001b[0m\n",
      "\u001b[0;32m/tmp/ipykernel_346/2393736610.py\u001b[0m in \u001b[0;36m<listcomp>\u001b[0;34m(.0)\u001b[0m\n\u001b[1;32m      4\u001b[0m \u001b[0;31m# 상위 빈도 단어만 사용한 Word Cloud 생성 함수\u001b[0m\u001b[0;34m\u001b[0m\u001b[0;34m\u001b[0m\u001b[0m\n\u001b[1;32m      5\u001b[0m \u001b[0;32mdef\u001b[0m \u001b[0mplot_wordcloud_top_n\u001b[0m\u001b[0;34m(\u001b[0m\u001b[0mdata\u001b[0m\u001b[0;34m,\u001b[0m \u001b[0mlabel\u001b[0m\u001b[0;34m,\u001b[0m \u001b[0mword_to_index\u001b[0m\u001b[0;34m,\u001b[0m \u001b[0mtop_n\u001b[0m\u001b[0;34m=\u001b[0m\u001b[0;36m100\u001b[0m\u001b[0;34m)\u001b[0m\u001b[0;34m:\u001b[0m\u001b[0;34m\u001b[0m\u001b[0;34m\u001b[0m\u001b[0m\n\u001b[0;32m----> 6\u001b[0;31m     \u001b[0mtext_data\u001b[0m \u001b[0;34m=\u001b[0m \u001b[0;34m[\u001b[0m\u001b[0;34m\" \"\u001b[0m\u001b[0;34m.\u001b[0m\u001b[0mjoin\u001b[0m\u001b[0;34m(\u001b[0m\u001b[0;34m[\u001b[0m\u001b[0mlist\u001b[0m\u001b[0;34m(\u001b[0m\u001b[0mword_to_index\u001b[0m\u001b[0;34m.\u001b[0m\u001b[0mkeys\u001b[0m\u001b[0;34m(\u001b[0m\u001b[0;34m)\u001b[0m\u001b[0;34m)\u001b[0m\u001b[0;34m[\u001b[0m\u001b[0midx\u001b[0m\u001b[0;34m]\u001b[0m \u001b[0;32mfor\u001b[0m \u001b[0midx\u001b[0m \u001b[0;32min\u001b[0m \u001b[0msentence\u001b[0m\u001b[0;34m]\u001b[0m\u001b[0;34m)\u001b[0m \u001b[0;32mfor\u001b[0m \u001b[0msentence\u001b[0m \u001b[0;32min\u001b[0m \u001b[0mdata\u001b[0m\u001b[0;34m]\u001b[0m\u001b[0;34m\u001b[0m\u001b[0;34m\u001b[0m\u001b[0m\n\u001b[0m\u001b[1;32m      7\u001b[0m     \u001b[0mtext\u001b[0m \u001b[0;34m=\u001b[0m \u001b[0;34m\" \"\u001b[0m\u001b[0;34m.\u001b[0m\u001b[0mjoin\u001b[0m\u001b[0;34m(\u001b[0m\u001b[0mtext_data\u001b[0m\u001b[0;34m)\u001b[0m\u001b[0;34m\u001b[0m\u001b[0;34m\u001b[0m\u001b[0m\n\u001b[1;32m      8\u001b[0m \u001b[0;34m\u001b[0m\u001b[0m\n",
      "\u001b[0;31mKeyboardInterrupt\u001b[0m: "
     ]
    }
   ],
   "source": [
    "from collections import Counter\n",
    "import koreanize_matplotlib\n",
    "\n",
    "# 상위 빈도 단어만 사용한 Word Cloud 생성 함수\n",
    "def plot_wordcloud_top_n(data, label, word_to_index, top_n=100):\n",
    "    text_data = [\" \".join([list(word_to_index.keys())[idx] for idx in sentence]) for sentence in data]\n",
    "    text = \" \".join(text_data)\n",
    "    \n",
    "    # 단어 빈도 계산\n",
    "    word_counts = Counter(text.split())\n",
    "    most_common_words = dict(word_counts.most_common(top_n))  # 상위 N개 단어 선택\n",
    "    \n",
    "    wordcloud = WordCloud(width=800, height=400, background_color='white').generate_from_frequencies(most_common_words)\n",
    "    \n",
    "    plt.figure(figsize=(10, 6))\n",
    "    plt.imshow(wordcloud, interpolation='bilinear')\n",
    "    plt.axis('off')\n",
    "    plt.title(f'Word Cloud for {label} Data')\n",
    "    plt.show()\n",
    "\n",
    "# 상위 100개 단어로 Negative Word Cloud 생성\n",
    "plot_wordcloud_top_n(X_train_padded[y_train == 0], 'Negative', word_to_index, top_n=100)\n",
    "\n",
    "# 상위 100개 단어로 Positive Word Cloud 생성\n",
    "plot_wordcloud_top_n(X_train_padded[y_train == 1], 'Positive', word_to_index, top_n=100)"
   ]
  },
  {
   "cell_type": "markdown",
   "id": "32f2b95d",
   "metadata": {},
   "source": [
    "### 회고\n",
    "NLP 부분은 관심이 많았지만 공부를 해보지 않았어서 어려웠다. 하지만 텍스트 분류와 토큰으로 단어를 임베딩하고 인코더 디코더하는 부분은 굉장히 흥미로웠다. 어렵기도 하고 이해가 안되는 부분이 많았지만 열심히 더 공부하고 노력하다 보면, 하고 싶은 프로젝트에 많이 기여할 수 있고 도움이 될 것 같아서 좋았다."
   ]
  },
  {
   "cell_type": "code",
   "execution_count": null,
   "id": "8662a257",
   "metadata": {},
   "outputs": [],
   "source": []
  },
  {
   "cell_type": "code",
   "execution_count": null,
   "id": "fe2efbef",
   "metadata": {},
   "outputs": [],
   "source": []
  },
  {
   "cell_type": "code",
   "execution_count": null,
   "id": "44e95fba",
   "metadata": {},
   "outputs": [],
   "source": []
  },
  {
   "cell_type": "code",
   "execution_count": null,
   "id": "4eefe53a",
   "metadata": {},
   "outputs": [],
   "source": []
  },
  {
   "cell_type": "code",
   "execution_count": null,
   "id": "26e08d22",
   "metadata": {},
   "outputs": [],
   "source": []
  },
  {
   "cell_type": "code",
   "execution_count": null,
   "id": "790bb5b6",
   "metadata": {},
   "outputs": [],
   "source": []
  },
  {
   "cell_type": "code",
   "execution_count": null,
   "id": "fe077967",
   "metadata": {},
   "outputs": [],
   "source": []
  },
  {
   "cell_type": "code",
   "execution_count": null,
   "id": "08d5ccf9",
   "metadata": {},
   "outputs": [],
   "source": []
  },
  {
   "cell_type": "code",
   "execution_count": null,
   "id": "d3e00a4b",
   "metadata": {},
   "outputs": [],
   "source": []
  },
  {
   "cell_type": "code",
   "execution_count": null,
   "id": "72171703",
   "metadata": {},
   "outputs": [],
   "source": []
  },
  {
   "cell_type": "code",
   "execution_count": null,
   "id": "c92cacc9",
   "metadata": {},
   "outputs": [],
   "source": []
  },
  {
   "cell_type": "code",
   "execution_count": null,
   "id": "da9da89b",
   "metadata": {},
   "outputs": [],
   "source": []
  },
  {
   "cell_type": "code",
   "execution_count": null,
   "id": "a09b94d8",
   "metadata": {},
   "outputs": [],
   "source": []
  },
  {
   "cell_type": "code",
   "execution_count": null,
   "id": "e1c2d365",
   "metadata": {},
   "outputs": [],
   "source": []
  },
  {
   "cell_type": "code",
   "execution_count": null,
   "id": "f7e38b9f",
   "metadata": {},
   "outputs": [],
   "source": []
  },
  {
   "cell_type": "code",
   "execution_count": null,
   "id": "693f80f6",
   "metadata": {},
   "outputs": [],
   "source": []
  },
  {
   "cell_type": "code",
   "execution_count": null,
   "id": "cbce1215",
   "metadata": {},
   "outputs": [],
   "source": []
  },
  {
   "cell_type": "code",
   "execution_count": null,
   "id": "c87f38fc",
   "metadata": {},
   "outputs": [],
   "source": []
  },
  {
   "cell_type": "code",
   "execution_count": null,
   "id": "e9ea8655",
   "metadata": {},
   "outputs": [],
   "source": []
  },
  {
   "cell_type": "code",
   "execution_count": null,
   "id": "75c2fd6b",
   "metadata": {},
   "outputs": [],
   "source": []
  },
  {
   "cell_type": "code",
   "execution_count": null,
   "id": "c8d64b4a",
   "metadata": {},
   "outputs": [],
   "source": []
  },
  {
   "cell_type": "code",
   "execution_count": null,
   "id": "63732c6e",
   "metadata": {},
   "outputs": [],
   "source": []
  },
  {
   "cell_type": "code",
   "execution_count": null,
   "id": "483544ca",
   "metadata": {},
   "outputs": [],
   "source": []
  },
  {
   "cell_type": "code",
   "execution_count": null,
   "id": "be92a7b3",
   "metadata": {},
   "outputs": [],
   "source": []
  }
 ],
 "metadata": {
  "kernelspec": {
   "display_name": "Python 3 (ipykernel)",
   "language": "python",
   "name": "python3"
  },
  "language_info": {
   "codemirror_mode": {
    "name": "ipython",
    "version": 3
   },
   "file_extension": ".py",
   "mimetype": "text/x-python",
   "name": "python",
   "nbconvert_exporter": "python",
   "pygments_lexer": "ipython3",
   "version": "3.9.7"
  }
 },
 "nbformat": 4,
 "nbformat_minor": 5
}
